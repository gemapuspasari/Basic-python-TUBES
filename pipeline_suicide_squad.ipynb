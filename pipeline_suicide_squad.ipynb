{
  "nbformat": 4,
  "nbformat_minor": 0,
  "metadata": {
    "colab": {
      "name": "pipeline suicide squad",
      "provenance": [],
      "authorship_tag": "ABX9TyNMQT0lB91clfpZwgSljV+N",
      "include_colab_link": true
    },
    "kernelspec": {
      "name": "python3",
      "display_name": "Python 3"
    },
    "language_info": {
      "name": "python"
    }
  },
  "cells": [
    {
      "cell_type": "markdown",
      "metadata": {
        "id": "view-in-github",
        "colab_type": "text"
      },
      "source": [
        "<a href=\"https://colab.research.google.com/github/gemapuspasari/Basic-python-TUBES/blob/main/pipeline_suicide_squad.ipynb\" target=\"_parent\"><img src=\"https://colab.research.google.com/assets/colab-badge.svg\" alt=\"Open In Colab\"/></a>"
      ]
    },
    {
      "cell_type": "code",
      "metadata": {
        "colab": {
          "base_uri": "https://localhost:8080/",
          "height": 297
        },
        "id": "e9yI3MwKQXsE",
        "outputId": "471e78a2-1c76-425b-b209-731f4730da0d"
      },
      "source": [
        "# importing pandas library\n",
        "import pandas as pd\n",
        " \n",
        "# Create empty dataframe\n",
        "df = pd.DataFrame()\n",
        " \n",
        "# Creating a simple dataframe\n",
        "df['name'] = ['Harley Quinn', 'Rick Flag', 'Captain Boomerang',\n",
        "              'TDK', 'Savant', 'Weasel', 'Mongal', 'Blackguard']\n",
        "df['gender'] = ['Female', 'Male', 'Male',\n",
        "                'Male', 'Male', 'Male', 'Female', 'Male']\n",
        "df['age'] = [31, 34, 34, 42, 60, 43, 47, 31]\n",
        " \n",
        "# View dataframe\n",
        "df"
      ],
      "execution_count": 24,
      "outputs": [
        {
          "output_type": "execute_result",
          "data": {
            "text/html": [
              "<div>\n",
              "<style scoped>\n",
              "    .dataframe tbody tr th:only-of-type {\n",
              "        vertical-align: middle;\n",
              "    }\n",
              "\n",
              "    .dataframe tbody tr th {\n",
              "        vertical-align: top;\n",
              "    }\n",
              "\n",
              "    .dataframe thead th {\n",
              "        text-align: right;\n",
              "    }\n",
              "</style>\n",
              "<table border=\"1\" class=\"dataframe\">\n",
              "  <thead>\n",
              "    <tr style=\"text-align: right;\">\n",
              "      <th></th>\n",
              "      <th>name</th>\n",
              "      <th>gender</th>\n",
              "      <th>age</th>\n",
              "    </tr>\n",
              "  </thead>\n",
              "  <tbody>\n",
              "    <tr>\n",
              "      <th>0</th>\n",
              "      <td>Harley Quinn</td>\n",
              "      <td>Female</td>\n",
              "      <td>31</td>\n",
              "    </tr>\n",
              "    <tr>\n",
              "      <th>1</th>\n",
              "      <td>Rick Flag</td>\n",
              "      <td>Male</td>\n",
              "      <td>34</td>\n",
              "    </tr>\n",
              "    <tr>\n",
              "      <th>2</th>\n",
              "      <td>Captain Boomerang</td>\n",
              "      <td>Male</td>\n",
              "      <td>34</td>\n",
              "    </tr>\n",
              "    <tr>\n",
              "      <th>3</th>\n",
              "      <td>TDK</td>\n",
              "      <td>Male</td>\n",
              "      <td>42</td>\n",
              "    </tr>\n",
              "    <tr>\n",
              "      <th>4</th>\n",
              "      <td>Savant</td>\n",
              "      <td>Male</td>\n",
              "      <td>60</td>\n",
              "    </tr>\n",
              "    <tr>\n",
              "      <th>5</th>\n",
              "      <td>Weasel</td>\n",
              "      <td>Male</td>\n",
              "      <td>43</td>\n",
              "    </tr>\n",
              "    <tr>\n",
              "      <th>6</th>\n",
              "      <td>Mongal</td>\n",
              "      <td>Female</td>\n",
              "      <td>47</td>\n",
              "    </tr>\n",
              "    <tr>\n",
              "      <th>7</th>\n",
              "      <td>Blackguard</td>\n",
              "      <td>Male</td>\n",
              "      <td>31</td>\n",
              "    </tr>\n",
              "  </tbody>\n",
              "</table>\n",
              "</div>"
            ],
            "text/plain": [
              "                name  gender  age\n",
              "0       Harley Quinn  Female   31\n",
              "1          Rick Flag    Male   34\n",
              "2  Captain Boomerang    Male   34\n",
              "3                TDK    Male   42\n",
              "4             Savant    Male   60\n",
              "5             Weasel    Male   43\n",
              "6             Mongal  Female   47\n",
              "7         Blackguard    Male   31"
            ]
          },
          "metadata": {},
          "execution_count": 24
        }
      ]
    },
    {
      "cell_type": "code",
      "metadata": {
        "id": "ELLSdpWpRaP9"
      },
      "source": [
        "# function to find maen\n",
        "def mean_age_by_group(dataframe, col):\n",
        "   \n",
        "    # groups the data by a column and\n",
        "    # returns the mean age per group\n",
        "    return dataframe.groupby(col).mean()\n",
        "   \n",
        "# function to convert to uppercase\n",
        "def uppercase_column_name(dataframe):\n",
        "   \n",
        "    # Converts all the column names into uppercase\n",
        "    dataframe.columns = dataframe.columns.str.upper()\n",
        "     \n",
        "    # And returns them\n",
        "    return dataframe "
      ],
      "execution_count": 25,
      "outputs": []
    },
    {
      "cell_type": "code",
      "metadata": {
        "colab": {
          "base_uri": "https://localhost:8080/",
          "height": 141
        },
        "id": "lHxJz5R4SlrG",
        "outputId": "ff161e7f-babb-4d41-d70c-5f62e8725461"
      },
      "source": [
        "# Create a pipeline that applies both the functions created above\n",
        "pipeline = df.pipe(mean_age_by_group, col='gender').pipe(uppercase_column_name)\n",
        " \n",
        "# calling pipeline\n",
        "pipeline\n"
      ],
      "execution_count": 26,
      "outputs": [
        {
          "output_type": "execute_result",
          "data": {
            "text/html": [
              "<div>\n",
              "<style scoped>\n",
              "    .dataframe tbody tr th:only-of-type {\n",
              "        vertical-align: middle;\n",
              "    }\n",
              "\n",
              "    .dataframe tbody tr th {\n",
              "        vertical-align: top;\n",
              "    }\n",
              "\n",
              "    .dataframe thead th {\n",
              "        text-align: right;\n",
              "    }\n",
              "</style>\n",
              "<table border=\"1\" class=\"dataframe\">\n",
              "  <thead>\n",
              "    <tr style=\"text-align: right;\">\n",
              "      <th></th>\n",
              "      <th>AGE</th>\n",
              "    </tr>\n",
              "    <tr>\n",
              "      <th>gender</th>\n",
              "      <th></th>\n",
              "    </tr>\n",
              "  </thead>\n",
              "  <tbody>\n",
              "    <tr>\n",
              "      <th>Female</th>\n",
              "      <td>39.000000</td>\n",
              "    </tr>\n",
              "    <tr>\n",
              "      <th>Male</th>\n",
              "      <td>40.666667</td>\n",
              "    </tr>\n",
              "  </tbody>\n",
              "</table>\n",
              "</div>"
            ],
            "text/plain": [
              "              AGE\n",
              "gender           \n",
              "Female  39.000000\n",
              "Male    40.666667"
            ]
          },
          "metadata": {},
          "execution_count": 26
        }
      ]
    },
    {
      "cell_type": "code",
      "metadata": {
        "colab": {
          "base_uri": "https://localhost:8080/",
          "height": 129
        },
        "id": "xsylZD-TTuyG",
        "outputId": "a0b2e2e7-a726-4c8e-a320-6b9b6716d09e"
      },
      "source": [
        "# importing the package\n",
        "pip install pdpipe\n",
        "\n",
        "import pdpipe as pdp\n",
        "import pandas as pd\n",
        " \n",
        "# creating a emplty dataframe named dataset\n",
        "dataset = pd.DataFrame()\n",
        " \n",
        "# Creating a simple dataframe\n",
        "dataset['name'] = ['Harley Quinn', 'Rick Flag', 'Captain Boomerang',\n",
        "                   'TDK', 'Savant', 'Weasel', 'Mongal', 'Blackguard']\n",
        " \n",
        "dataset['gender'] = ['Female', 'Male', 'Male',\n",
        "                     'Male', 'Male', 'Male', 'Female', 'Male']\n",
        " \n",
        "dataset['age'] = [31, 34, 34, 42, 60, 43, 47, 31]\n",
        " \n",
        "dataset['department'] = ['Free', 'Task X Force', 'Suicide Squad', \n",
        "                         'Suicide Squad', 'Jail', 'Jail', 'Free', 'Task X Force']\n",
        " \n",
        "dataset['index'] = [1, 2, 3, 4, 5, 6, 7, 8]\n",
        "\n",
        "# View dataframe\n",
        "dataset"
      ],
      "execution_count": 27,
      "outputs": [
        {
          "output_type": "error",
          "ename": "SyntaxError",
          "evalue": "ignored",
          "traceback": [
            "\u001b[0;36m  File \u001b[0;32m\"<ipython-input-27-6652ab91f980>\"\u001b[0;36m, line \u001b[0;32m2\u001b[0m\n\u001b[0;31m    pip install pdpipe\u001b[0m\n\u001b[0m              ^\u001b[0m\n\u001b[0;31mSyntaxError\u001b[0m\u001b[0;31m:\u001b[0m invalid syntax\n"
          ]
        }
      ]
    },
    {
      "cell_type": "code",
      "metadata": {
        "id": "5G71D5-fZt35"
      },
      "source": [
        "# importing the package\n",
        "pip install pdpipe\n",
        "\n",
        "import pdpipe as pdp\n",
        "import pandas as pd\n",
        " \n",
        "# creating a emplty dataframe named dataset\n",
        "dataset = pd.DataFrame()\n",
        " \n",
        "# Creating a simple dataframe\n",
        "dataset['name'] = ['Harley Quinn', 'Rick Flag', 'Captain Boomerang',\n",
        "                   'TDK', 'Savant', 'Weasel', 'Mongal', 'Blackguard']\n",
        " \n",
        "dataset['gender'] = ['Female', 'Male', 'Male',\n",
        "                     'Male', 'Male', 'Male', 'Female', 'Male']\n",
        " \n",
        "dataset['age'] = [31, 32, 19, 23, 28, 33]\n",
        " \n",
        "dataset['department'] = ['Accounts', 'Management',\n",
        "                         'IT', 'IT', 'Management',\n",
        "                         'Advertising']\n",
        " \n",
        "dataset['index'] = [1, 2, 3, 4, 5, 6, 7, 8]\n",
        "\n",
        "# View dataframe\n",
        "dataset"
      ],
      "execution_count": null,
      "outputs": []
    },
    {
      "cell_type": "code",
      "metadata": {
        "id": "o5l-Ff2MYUNV"
      },
      "source": [
        "# creating a pipeline and\n",
        "# droping the umwanted column\n",
        "dropCol = pdp.ColDrop(\"index\").apply(dataset)\n",
        " \n",
        "# display the new dataframe\n",
        "# after column drop\n",
        "dropCol"
      ],
      "execution_count": null,
      "outputs": []
    },
    {
      "cell_type": "code",
      "metadata": {
        "id": "Or8K5wNMdSJM"
      },
      "source": [
        "# importing the package\n",
        "import pdpipe as pdp\n",
        "import pandas as pd\n",
        " \n",
        "# function to assign\n",
        "# senior and junior in post\n",
        "def fun(x):\n",
        "    if x > 30:\n",
        "        return \"Senior\"\n",
        "    else:\n",
        "        return \"Junior\"\n",
        " \n",
        " \n",
        "# creating a emplty dataframe named dataset\n",
        "dataset = pd.DataFrame()\n",
        " \n",
        "# Creating a simple dataframe\n",
        "# importing the package\n",
        "import pdpipe as pdp\n",
        "import pandas as pd\n",
        " \n",
        "# function to assign\n",
        "# senior and junior in post\n",
        "def fun(x):\n",
        "    if x > 30:\n",
        "        return \"Senior\"\n",
        "    else:\n",
        "        return \"Junior\"\n",
        " \n",
        " \n",
        "# creating a emplty dataframe named dataset\n",
        "dataset = pd.DataFrame()\n",
        " \n",
        "# Creating a simple dataframe\n",
        "dataset['name'] = ['Harley Quinn', 'Rick Flag', 'Captain Boomerang',\n",
        "                   'TDK', 'Savant', 'Weasel', 'Mongal', 'Blackguard']\n",
        " \n",
        "dataset['gender'] = ['Female', 'Male', 'Male',\n",
        "                     'Male', 'Male', 'Male', 'Female', 'Male']\n",
        " \n",
        "dataset['age'] = [31, 32, 19, 23, 28, 33]\n",
        " \n",
        "dataset['department'] = ['Accounts', 'Management',\n",
        "                         'IT', 'IT', 'Management',\n",
        "                         'Advertising']\n",
        " \n",
        "dataset['index'] = [1, 2, 3, 4, 5, 6, 7, 8]\n",
        "\n",
        "\n",
        "\n",
        "\n",
        "\n",
        "\n",
        "\n",
        "\n",
        "\n",
        "\n",
        "\n",
        "\n",
        " \n",
        "# creating new column\n",
        "# comparing with another column\n",
        "# and applying the function\n",
        "dataset['post'] = dataset['age'].apply(fun)\n",
        " \n",
        "# display dataframe\n",
        "dataset\n",
        " \n",
        "# creating new column\n",
        "# comparing with another column\n",
        "# and applying the function\n",
        "dataset['post'] = dataset['age'].apply(fun)\n",
        " \n",
        "# display dataframe\n",
        "dataset"
      ],
      "execution_count": null,
      "outputs": []
    },
    {
      "cell_type": "code",
      "metadata": {
        "colab": {
          "base_uri": "https://localhost:8080/",
          "height": 231
        },
        "id": "VYRpzdEIeH51",
        "outputId": "88715749-ef4b-4ebf-b9d5-0a23ab16ded3"
      },
      "source": [
        "#droping the valus using ValDrop\n",
        "df3 = pdp.ValDrop(['IT'],'department').apply(dataset)\n",
        " \n",
        "#display dataframe\n",
        "df3"
      ],
      "execution_count": 28,
      "outputs": [
        {
          "output_type": "error",
          "ename": "NameError",
          "evalue": "ignored",
          "traceback": [
            "\u001b[0;31m---------------------------------------------------------------------------\u001b[0m",
            "\u001b[0;31mNameError\u001b[0m                                 Traceback (most recent call last)",
            "\u001b[0;32m<ipython-input-28-8406c9bf60db>\u001b[0m in \u001b[0;36m<module>\u001b[0;34m()\u001b[0m\n\u001b[1;32m      1\u001b[0m \u001b[0;31m#droping the valus using ValDrop\u001b[0m\u001b[0;34m\u001b[0m\u001b[0;34m\u001b[0m\u001b[0;34m\u001b[0m\u001b[0m\n\u001b[0;32m----> 2\u001b[0;31m \u001b[0mdf3\u001b[0m \u001b[0;34m=\u001b[0m \u001b[0mpdp\u001b[0m\u001b[0;34m.\u001b[0m\u001b[0mValDrop\u001b[0m\u001b[0;34m(\u001b[0m\u001b[0;34m[\u001b[0m\u001b[0;34m'IT'\u001b[0m\u001b[0;34m]\u001b[0m\u001b[0;34m,\u001b[0m\u001b[0;34m'department'\u001b[0m\u001b[0;34m)\u001b[0m\u001b[0;34m.\u001b[0m\u001b[0mapply\u001b[0m\u001b[0;34m(\u001b[0m\u001b[0mdataset\u001b[0m\u001b[0;34m)\u001b[0m\u001b[0;34m\u001b[0m\u001b[0;34m\u001b[0m\u001b[0m\n\u001b[0m\u001b[1;32m      3\u001b[0m \u001b[0;34m\u001b[0m\u001b[0m\n\u001b[1;32m      4\u001b[0m \u001b[0;31m#display dataframe\u001b[0m\u001b[0;34m\u001b[0m\u001b[0;34m\u001b[0m\u001b[0;34m\u001b[0m\u001b[0m\n\u001b[1;32m      5\u001b[0m \u001b[0mdf3\u001b[0m\u001b[0;34m\u001b[0m\u001b[0;34m\u001b[0m\u001b[0m\n",
            "\u001b[0;31mNameError\u001b[0m: name 'pdp' is not defined"
          ]
        }
      ]
    }
  ]
}